{
 "cells": [
  {
   "cell_type": "code",
   "execution_count": 51,
   "metadata": {
    "collapsed": true
   },
   "outputs": [],
   "source": [
    "# Examples from chapter 3 sections 5.14 and 5.15"
   ]
  },
  {
   "cell_type": "code",
   "execution_count": 52,
   "metadata": {
    "collapsed": false
   },
   "outputs": [
    {
     "data": {
      "text/html": [
       "<table>\n",
       "<thead><tr><th scope=col>rfood</th><th scope=col>rdur</th><th scope=col>rcon</th><th scope=col>rmrf</th><th scope=col>rf</th></tr></thead>\n",
       "<tbody>\n",
       "\t<tr><td>-4.59</td><td> 0.87</td><td>-6.84</td><td>-6.99</td><td>0.33 </td></tr>\n",
       "\t<tr><td> 2.62</td><td> 3.46</td><td> 2.78</td><td> 0.99</td><td>0.29 </td></tr>\n",
       "\t<tr><td>-1.67</td><td>-2.28</td><td>-0.48</td><td>-1.46</td><td>0.35 </td></tr>\n",
       "\t<tr><td> 0.86</td><td> 2.41</td><td>-2.02</td><td>-1.70</td><td>0.19 </td></tr>\n",
       "\t<tr><td> 7.34</td><td> 6.33</td><td> 3.69</td><td> 3.08</td><td>0.27 </td></tr>\n",
       "\t<tr><td> 4.99</td><td>-1.26</td><td> 2.05</td><td> 2.09</td><td>0.24 </td></tr>\n",
       "</tbody>\n",
       "</table>\n"
      ],
      "text/latex": [
       "\\begin{tabular}{r|lllll}\n",
       " rfood & rdur & rcon & rmrf & rf\\\\\n",
       "\\hline\n",
       "\t -4.59 &  0.87 & -6.84 & -6.99 & 0.33 \\\\\n",
       "\t  2.62 &  3.46 &  2.78 &  0.99 & 0.29 \\\\\n",
       "\t -1.67 & -2.28 & -0.48 & -1.46 & 0.35 \\\\\n",
       "\t  0.86 &  2.41 & -2.02 & -1.70 & 0.19 \\\\\n",
       "\t  7.34 &  6.33 &  3.69 &  3.08 & 0.27 \\\\\n",
       "\t  4.99 & -1.26 &  2.05 &  2.09 & 0.24 \\\\\n",
       "\\end{tabular}\n"
      ],
      "text/markdown": [
       "\n",
       "rfood | rdur | rcon | rmrf | rf | \n",
       "|---|---|---|---|---|---|\n",
       "| -4.59 |  0.87 | -6.84 | -6.99 | 0.33  | \n",
       "|  2.62 |  3.46 |  2.78 |  0.99 | 0.29  | \n",
       "| -1.67 | -2.28 | -0.48 | -1.46 | 0.35  | \n",
       "|  0.86 |  2.41 | -2.02 | -1.70 | 0.19  | \n",
       "|  7.34 |  6.33 |  3.69 |  3.08 | 0.27  | \n",
       "|  4.99 | -1.26 |  2.05 |  2.09 | 0.24  | \n",
       "\n",
       "\n"
      ],
      "text/plain": [
       "  rfood rdur  rcon  rmrf  rf  \n",
       "1 -4.59  0.87 -6.84 -6.99 0.33\n",
       "2  2.62  3.46  2.78  0.99 0.29\n",
       "3 -1.67 -2.28 -0.48 -1.46 0.35\n",
       "4  0.86  2.41 -2.02 -1.70 0.19\n",
       "5  7.34  6.33  3.69  3.08 0.27\n",
       "6  4.99 -1.26  2.05  2.09 0.24"
      ]
     },
     "metadata": {},
     "output_type": "display_data"
    }
   ],
   "source": [
    "# Example 5.3\n",
    "library(\"MASS\")\n",
    "data(Capm, package = \"Ecdat\")\n",
    "head(Capm)"
   ]
  },
  {
   "cell_type": "code",
   "execution_count": 53,
   "metadata": {
    "collapsed": false
   },
   "outputs": [
    {
     "data": {
      "text/html": [
       "<ol class=list-inline>\n",
       "\t<li>-0.04</li>\n",
       "\t<li>0.06</li>\n",
       "\t<li>-0.16</li>\n",
       "\t<li>0.08</li>\n",
       "\t<li>-0.03</li>\n",
       "</ol>\n"
      ],
      "text/latex": [
       "\\begin{enumerate*}\n",
       "\\item -0.04\n",
       "\\item 0.06\n",
       "\\item -0.16\n",
       "\\item 0.08\n",
       "\\item -0.03\n",
       "\\end{enumerate*}\n"
      ],
      "text/markdown": [
       "1. -0.04\n",
       "2. 0.06\n",
       "3. -0.16\n",
       "4. 0.08\n",
       "5. -0.03\n",
       "\n",
       "\n"
      ],
      "text/plain": [
       "[1] -0.04  0.06 -0.16  0.08 -0.03"
      ]
     },
     "metadata": {},
     "output_type": "display_data"
    }
   ],
   "source": [
    "x = diff(Capm$rf)\n",
    "head(x, 5)"
   ]
  },
  {
   "cell_type": "code",
   "execution_count": 54,
   "metadata": {
    "collapsed": false
   },
   "outputs": [
    {
     "data": {
      "text/plain": [
       "        m             s            df     \n",
       "  0.001224280   0.045854887   3.336703626 \n",
       " (0.002453949) (0.002457988) (0.500009578)"
      ]
     },
     "metadata": {},
     "output_type": "display_data"
    }
   ],
   "source": [
    "options(warn = -1)\n",
    "dist = fitdistr(x, \"t\")\n",
    "dist"
   ]
  },
  {
   "cell_type": "code",
   "execution_count": 55,
   "metadata": {
    "collapsed": false
   },
   "outputs": [],
   "source": [
    "# Now with MLE\n",
    "library(fGarch)"
   ]
  },
  {
   "cell_type": "code",
   "execution_count": 56,
   "metadata": {
    "collapsed": false
   },
   "outputs": [
    {
     "data": {
      "text/html": [
       "<ol class=list-inline>\n",
       "\t<li>0.00121546158179521</li>\n",
       "\t<li>0.0458637230072391</li>\n",
       "\t<li>3.33654911257352</li>\n",
       "</ol>\n"
      ],
      "text/latex": [
       "\\begin{enumerate*}\n",
       "\\item 0.00121546158179521\n",
       "\\item 0.0458637230072391\n",
       "\\item 3.33654911257352\n",
       "\\end{enumerate*}\n"
      ],
      "text/markdown": [
       "1. 0.00121546158179521\n",
       "2. 0.0458637230072391\n",
       "3. 3.33654911257352\n",
       "\n",
       "\n"
      ],
      "text/plain": [
       "[1] 0.001215462 0.045863723 3.336549113"
      ]
     },
     "metadata": {},
     "output_type": "display_data"
    }
   ],
   "source": [
    "start = c(mean(x), sd(x), 5)\n",
    "loglik_t = function(beta)\n",
    "{\n",
    "    L = sum(-dt((x - beta[1]) / beta[2], beta[3], log = TRUE) + log(beta[2]))\n",
    "    return(L)\n",
    "}\n",
    "fit_t = optim(start, loglik_t, hessian = TRUE,\n",
    "              method = \"L-BFGS-B\", lower = c(-1, 0.001, 1))\n",
    "fit_t$par"
   ]
  },
  {
   "cell_type": "code",
   "execution_count": 59,
   "metadata": {
    "collapsed": false
   },
   "outputs": [
    {
     "data": {
      "text/html": [
       "<ol class=list-inline>\n",
       "\t<li>0.00121443943861011</li>\n",
       "\t<li>0.0725088250978559</li>\n",
       "\t<li>3.33161320394148</li>\n",
       "</ol>\n"
      ],
      "text/latex": [
       "\\begin{enumerate*}\n",
       "\\item 0.00121443943861011\n",
       "\\item 0.0725088250978559\n",
       "\\item 3.33161320394148\n",
       "\\end{enumerate*}\n"
      ],
      "text/markdown": [
       "1. 0.00121443943861011\n",
       "2. 0.0725088250978559\n",
       "3. 3.33161320394148\n",
       "\n",
       "\n"
      ],
      "text/plain": [
       "[1] 0.001214439 0.072508825 3.331613204"
      ]
     },
     "metadata": {},
     "output_type": "display_data"
    }
   ],
   "source": [
    "x = diff(Capm$rf)\n",
    "start = c(mean(x), sd(x), 5)\n",
    "loglik_std = function(beta)\n",
    "{\n",
    "    L = sum(-dstd(x, mean = beta[1], sd = beta[2], nu = beta[3], log = TRUE))\n",
    "    #return(L)\n",
    "}\n",
    "fit_std = optim(start, loglik_std, hessian = TRUE,\n",
    "                method = \"L-BFGS-B\", lower = c(-0.1, 0.01, 2.1))\n",
    "fit_std$par"
   ]
  },
  {
   "cell_type": "code",
   "execution_count": 61,
   "metadata": {
    "collapsed": false
   },
   "outputs": [
    {
     "data": {
      "text/html": [
       "<ol class=list-inline>\n",
       "\t<li>0.00118114330006988</li>\n",
       "\t<li>0.0724833040331837</li>\n",
       "\t<li>3.33427590569637</li>\n",
       "\t<li>0.998849117845845</li>\n",
       "</ol>\n"
      ],
      "text/latex": [
       "\\begin{enumerate*}\n",
       "\\item 0.00118114330006988\n",
       "\\item 0.0724833040331837\n",
       "\\item 3.33427590569637\n",
       "\\item 0.998849117845845\n",
       "\\end{enumerate*}\n"
      ],
      "text/markdown": [
       "1. 0.00118114330006988\n",
       "2. 0.0724833040331837\n",
       "3. 3.33427590569637\n",
       "4. 0.998849117845845\n",
       "\n",
       "\n"
      ],
      "text/plain": [
       "[1] 0.001181143 0.072483304 3.334275906 0.998849118"
      ]
     },
     "metadata": {},
     "output_type": "display_data"
    }
   ],
   "source": [
    "# Example 5.4\n",
    "x = diff(Capm$rf)\n",
    "start = c(mean(x), sd(x), 5, 1)\n",
    "loglik_sstd = function(beta)\n",
    "{\n",
    "    sum(- dsstd(x, mean = beta[1], sd = beta[2], nu = beta[3], xi = beta[4], log = TRUE))\n",
    "}\n",
    "fit_sstd = optim(start, loglik_sstd, hessian = TRUE, method = \"L-BFGS-B\", lower = c(-0.1, 0.01, 2.1, -2))\n",
    "fit_sstd$par"
   ]
  },
  {
   "cell_type": "code",
   "execution_count": null,
   "metadata": {
    "collapsed": true
   },
   "outputs": [],
   "source": []
  }
 ],
 "metadata": {
  "anaconda-cloud": {},
  "kernelspec": {
   "display_name": "R",
   "language": "R",
   "name": "ir"
  },
  "language_info": {
   "codemirror_mode": "r",
   "file_extension": ".r",
   "mimetype": "text/x-r-source",
   "name": "R",
   "pygments_lexer": "r",
   "version": "3.3.2"
  }
 },
 "nbformat": 4,
 "nbformat_minor": 0
}
